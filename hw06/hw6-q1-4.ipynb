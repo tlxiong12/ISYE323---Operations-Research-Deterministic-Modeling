{
 "cells": [
  {
   "cell_type": "code",
   "execution_count": 1,
   "id": "d7a209d2-acfe-4ad2-80a5-e55fb504a88b",
   "metadata": {},
   "outputs": [
    {
     "name": "stdout",
     "output_type": "stream",
     "text": [
      "Presolve 23 (-14) rows, 20 (-3) columns and 58 (-29) elements\n",
      "0  Obj 0 Primal inf 17.299991 (10)\n",
      "12  Obj 33\n",
      "Optimal - objective value 33\n",
      "After Postsolve, objective 33, infeasibilities - dual 0 (0), primal 0 (0)\n",
      "Optimal objective 33 - 12 iterations time 0.002, Presolve 0.00\n"
     ]
    }
   ],
   "source": [
    "#Problem 1-4\n",
    "quests =[\n",
    "    :A,\n",
    "    :B,\n",
    "    :C,\n",
    "    :D,\n",
    "    :E,\n",
    "    :F,\n",
    "    :G,\n",
    "    :H,\n",
    "    :I,\n",
    "    :J,\n",
    "    :K\n",
    "]\n",
    "arc = [(:A,:B),(:A,:C),(:B,:D),(:B,:G), (:C,:D),(:C,:F),(:D,:E),(:D,:I),(:E,:H),(:F,:J),(:G,:H),(:H,:I),(:I,:J),(:J,:K)]\n",
    "duration= Dict(zip(quests, [2,1,3,2,4,5,2,3,4,6,5]))\n",
    "reduction= Dict(zip(quests, [5,2,3,8,4,9,6,3,4,5,10]))\n",
    "\n",
    "using JuMP, Cbc, NamedArrays\n",
    "m = Model()\n",
    "\n",
    "#variables\n",
    "@variable(m, x[quests] >=0)\n",
    "@variable(m, y[quests] >= 0)\n",
    "@variable(m, z >=0)\n",
    "\n",
    "#objective\n",
    "@objective(m, Min, sum(reduction[q]*y[q] for q in quests))\n",
    "\n",
    "\n",
    "# Constraints\n",
    "@constraint(m, max[q in quests], z >= x[q]+ duration[q] - y[q])\n",
    "@constraint(m, spell[(q,r) in arc], x[r]>= x[q]+duration[q]-y[q])\n",
    "@constraint(m, crash_max[q in quests], y[q] <= 2)\n",
    "@constraint(m, z_max, z <= 20)\n",
    "\n",
    "set_optimizer(m, Cbc.Optimizer)\n",
    "optimize!(m)"
   ]
  },
  {
   "cell_type": "code",
   "execution_count": null,
   "id": "4bced772-32b0-485f-9009-c8b21cb009cf",
   "metadata": {},
   "outputs": [],
   "source": []
  }
 ],
 "metadata": {
  "kernelspec": {
   "display_name": "Julia 1.10.0",
   "language": "julia",
   "name": "julia-1.10"
  },
  "language_info": {
   "file_extension": ".jl",
   "mimetype": "application/julia",
   "name": "julia",
   "version": "1.10.0"
  }
 },
 "nbformat": 4,
 "nbformat_minor": 5
}
