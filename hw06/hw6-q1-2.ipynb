{
 "cells": [
  {
   "cell_type": "code",
   "execution_count": 5,
   "id": "4da657e5-0a73-4550-a174-96badeacef59",
   "metadata": {},
   "outputs": [
    {
     "name": "stdout",
     "output_type": "stream",
     "text": [
      "Presolve 0 (-14) rows, 0 (-11) columns and 0 (-28) elements\n",
      "Optimal - objective value 24\n",
      "After Postsolve, objective 24, infeasibilities - dual 0 (0), primal 0 (0)\n",
      "Optimal objective 24 - 0 iterations time 0.002, Presolve 0.00\n"
     ]
    }
   ],
   "source": [
    "#Problem 1-2\n",
    "using JuMP, Cbc, NamedArrays\n",
    "m = Model()\n",
    "\n",
    "#data\n",
    "quests = Dict(\n",
    "    :A => (duration = 2, predecessors = []),\n",
    "    :B => (duration = 1, predecessors = [:A]),\n",
    "    :C => (duration = 3, predecessors = [:A]),\n",
    "    :D => (duration = 2, predecessors = [:B, :C]),\n",
    "    :E => (duration = 4, predecessors = [:D]),\n",
    "    :F => (duration = 5, predecessors = [:C]),\n",
    "    :G => (duration = 2, predecessors = [:B]),\n",
    "    :H => (duration = 3, predecessors = [:E, :G]),\n",
    "    :I => (duration = 4, predecessors = [:D, :H]),\n",
    "    :J => (duration = 6, predecessors = [:F, :I]),\n",
    "    :K => (duration = 5, predecessors = [:J])\n",
    ")\n",
    "\n",
    "#Decision Variables\n",
    "@variable(m, x[q in keys(quests)] >=0)\n",
    "\n",
    "#Objective\n",
    "@objective(m, Min, x[:K] + quests[:K].duration)\n",
    "\n",
    "#Constraints\n",
    "\n",
    "@constraint(m, [(t,quest) in quests, predecessor in quest.predecessors], x[t] >= x[predecessor] + \n",
    "    quests[predecessor].duration)\n",
    "\n",
    "set_optimizer(m, Cbc.Optimizer)\n",
    "optimize!(m)\n",
    "\n"
   ]
  },
  {
   "cell_type": "code",
   "execution_count": null,
   "id": "c1e00033-02d6-409d-81df-3779976c43a8",
   "metadata": {},
   "outputs": [],
   "source": []
  }
 ],
 "metadata": {
  "kernelspec": {
   "display_name": "Julia 1.10.0",
   "language": "julia",
   "name": "julia-1.10"
  },
  "language_info": {
   "file_extension": ".jl",
   "mimetype": "application/julia",
   "name": "julia",
   "version": "1.10.0"
  }
 },
 "nbformat": 4,
 "nbformat_minor": 5
}
