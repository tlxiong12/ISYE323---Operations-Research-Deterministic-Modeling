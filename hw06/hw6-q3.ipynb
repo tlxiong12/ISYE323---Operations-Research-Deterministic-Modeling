{
 "cells": [
  {
   "cell_type": "code",
   "execution_count": 1,
   "id": "0288c853-2ff8-436f-a1bc-ef5ae0614540",
   "metadata": {},
   "outputs": [
    {
     "name": "stdout",
     "output_type": "stream",
     "text": [
      "Presolve 7 (-12) rows, 12 (0) columns and 24 (-12) elements\n",
      "Perturbing problem by 0.001% of 1 - largest nonzero change 5.1174564e-05 ( 0.0051174564%) - largest zero change 0\n",
      "0  Obj 0 Primal inf 40.999997 (3)\n",
      "5  Obj 41.001565\n",
      "Optimal - objective value 41\n",
      "After Postsolve, objective 41, infeasibilities - dual 0 (0), primal 0 (0)\n",
      "Optimal objective 41 - 5 iterations time 0.002, Presolve 0.00\n"
     ]
    }
   ],
   "source": [
    "#Problem 2-2\n",
    "\n",
    "campaigns = 1:3\n",
    "months = 1:4\n",
    "hours_required = [15,14,12]\n",
    "using JuMP, Cbc, NamedArrays\n",
    "m = Model()\n",
    "\n",
    "@variable(m, x[campaigns, months] >=0)\n",
    "\n",
    "@objective(m, Min, sum(x))\n",
    "\n",
    "@constraint(m, [c in campaigns], sum(x[c, z] for z in months) == hours_required[c])\n",
    "@constraint(m, [z in months], sum(x[c, z] for c in campaigns) <= 12) #12 hour constraint\n",
    "@constraint(m, [z in months, c in campaigns], x[c, z] <=8)  #no more than 8 hours can be spent \n",
    "#on a campaign per monh\n",
    " \n",
    "\n",
    "set_optimizer(m, Cbc.Optimizer)\n",
    "optimize!(m)"
   ]
  },
  {
   "cell_type": "code",
   "execution_count": null,
   "id": "76cded4f-7de4-4667-9456-9c0eecb6e690",
   "metadata": {},
   "outputs": [],
   "source": []
  }
 ],
 "metadata": {
  "kernelspec": {
   "display_name": "Julia 1.10.0",
   "language": "julia",
   "name": "julia-1.10"
  },
  "language_info": {
   "file_extension": ".jl",
   "mimetype": "application/julia",
   "name": "julia",
   "version": "1.10.0"
  }
 },
 "nbformat": 4,
 "nbformat_minor": 5
}
