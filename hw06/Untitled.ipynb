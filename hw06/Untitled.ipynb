{
 "cells": [
  {
   "cell_type": "code",
   "execution_count": null,
   "id": "3d45d09b-105c-4329-a486-65b309295db3",
   "metadata": {},
   "outputs": [],
   "source": [
    "I=[:A,:B,:C,:D,:E,:F,:G,:H,:I,:J,:K]\n",
    "P = [(:A,:B),(:A,:C),(:B,:D),(:B,:G), (:C,:D),(:C,:F),(:D,:E),(:D,:I),(:E,:H),(:F,:J),(:G,:H),(:H,:I),(:I,:J),(:J,:K)]\n",
    "a= Dict(zip(I, [2,1,3,2,4,5,2,3,4,6,5]))\n",
    "c= Dict(zip(I, [5,2,3,8,4,9,6,3,4,5,10]))\n",
    "\n",
    "using JuMP, Cbc, NamedArrays\n",
    "m = Model()\n",
    "\n",
    "@variable(m, x[I] >=0)\n",
    "@variable(m, y[I] >=0)\n",
    "@variable(m, z >=0)\n",
    "\n",
    "@objective(m, Min, sum(c[i]*y[i] for i in I))\n",
    "\n",
    "@constraint(m, max_i[i in I], z >= x[i] + a[i] - y[i])\n",
    "@constraint(m, task[(i,j) in P], x[j] >= x[i]+a[i]-y[i])\n",
    "@constraint(m, max_crash[i in I], y[i] <= 2)\n",
    "@constraint(m, max_z, z <= 20)\n",
    "\n",
    "set_optimizer(m, Cbc.Optimizer)\n",
    "optimize!(m)"
   ]
  }
 ],
 "metadata": {
  "kernelspec": {
   "display_name": "Julia 1.10.0",
   "language": "julia",
   "name": "julia-1.10"
  },
  "language_info": {
   "file_extension": ".jl",
   "mimetype": "application/julia",
   "name": "julia",
   "version": "1.10.0"
  }
 },
 "nbformat": 4,
 "nbformat_minor": 5
}
