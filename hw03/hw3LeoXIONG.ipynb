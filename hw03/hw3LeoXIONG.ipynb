{
 "cells": [
  {
   "cell_type": "code",
   "execution_count": 1,
   "id": "6fd18efe",
   "metadata": {},
   "outputs": [],
   "source": [
    "using Cbc, JuMP, NamedArrays"
   ]
  },
  {
   "cell_type": "markdown",
   "id": "b936c6f3-d70b-43be-9be1-f6ce0ff95b61",
   "metadata": {},
   "source": [
    "P : the set of time periods for which staffing requirements must be met\n",
    "    \n",
    "bi: the minimum number of baristas that must be working during period i ∈ P\n",
    "    \n",
    "S: the set of all possible schedules a barista can work (based on union requirements)\n",
    "    \n",
    "asi: defines the periods covered by schedule s ∈ S. asi = 1 means the schedule s ∈ S covers period\n",
    "i ∈ P , and asi = 0 means the schedule s ∈ S does not cover period i ∈ P\n",
    "    \n",
    "cs: the cost to assign a barista to schedule s ∈ S\n",
    "    \n",
    "fs: indicates if schedule s ∈ S is full-time. fs = 1 means schedule s is full-time, fs = 0 means\n",
    "schedule s is part-time\n",
    "        \n",
    "M : Maximum number of baristas that can be assigned to a part-time schedule"
   ]
  },
  {
   "cell_type": "code",
   "execution_count": null,
   "id": "d8ed5636",
   "metadata": {},
   "outputs": [],
   "source": [
    "#Problem 1-1\n",
    "\n",
    "\n",
    "\n",
    "#Decision Variables\n",
    "xs >= 0 #schedules made\n",
    "xi >= 0 #shifts covering schedule\n",
    "\n",
    "\n",
    "#Objective\n",
    "minimize\n",
    "cs #cost to assign a barista\n",
    "\n",
    "#Constraints\n",
    "f0 + f1 >= bi #meeting staffing requirements \n",
    "#full time workers\n",
    "xs <= M #full time workers\n",
    "xi <= M #part time workers\n"
   ]
  },
  {
   "cell_type": "code",
   "execution_count": null,
   "id": "8f228ea6-ac79-40cc-a676-1513cb69659f",
   "metadata": {},
   "outputs": [],
   "source": []
  },
  {
   "cell_type": "code",
   "execution_count": null,
   "id": "33393db1-97ec-42bd-88b7-411c6d87ad17",
   "metadata": {},
   "outputs": [],
   "source": [
    "#Problem 2-1\n",
    "Decision Variables\n",
    "x1>=0 #Starter Company 1\n",
    "x2>=0 #Starter Company 2\n",
    "x3>=0 #Starter Company 3\n",
    "x4>=0 #Starter Company 4\n",
    "x5>=0 #Starter Company 5\n",
    "\n",
    "Objective\n",
    "Maximize\n",
    "6x1+5x2+12x3+13x4+9x5 #NPV investments\n",
    "\n",
    "Constraints\n",
    "low_risk <= 20 #low risk constraint (no hard limit)\n",
    "high_risk <= 8 #high risk constraint (hard limit of 40% of 20)"
   ]
  },
  {
   "cell_type": "code",
   "execution_count": 2,
   "id": "5c31a9db-ec63-4fd9-9fce-8b9f17ee9d0f",
   "metadata": {},
   "outputs": [
    {
     "name": "stdout",
     "output_type": "stream",
     "text": [
      "Presolve 4 (-1) rows, 5 (0) columns and 20 (-5) elements\n",
      "0  Obj 45 Primal inf 3.4545425 (3)\n",
      "3  Obj 27.578512\n",
      "Optimal - objective value 27.578512\n",
      "After Postsolve, objective 27.578512, infeasibilities - dual 0 (0), primal 0 (0)\n",
      "Optimal objective 27.5785124 - 3 iterations time 0.002, Presolve 0.00\n"
     ]
    }
   ],
   "source": [
    "#Problem 2-2\n",
    "\n",
    "using JuMP, Cbc\n",
    "m=Model()\n",
    "\n",
    "#data\n",
    "NPV = [6,5,12,13,9]\n",
    "cash_expenditure=[6 2 8 10 2;\n",
    "                2 5 9 11 9;\n",
    "                4 3 10 9 6;\n",
    "                2 3 4 8 3]\n",
    "yearlybudget = 20 #(mil)\n",
    "\n",
    "#decision variables\n",
    "@variable(m, x[i=1:5] <= 1) #companies\n",
    "\n",
    "#objective\n",
    "@objective(m, Max, sum(x[i] * NPV[i] for i in 1:5))\n",
    "\n",
    "#constraints\n",
    "@constraint(m, [year in 1:4], sum(x[i] * cash_expenditure[year, i] for i in 1:5) <= yearlybudget)\n",
    "@constraint(m, sum(x[i] for i in 3:4) <= 0.4 * sum(x[i] for i in 1:5))\n",
    "\n",
    "set_optimizer(m, Cbc.Optimizer)\n",
    "optimize!(m)"
   ]
  },
  {
   "cell_type": "code",
   "execution_count": null,
   "id": "8e990fd0-adcc-4bef-94ee-4e5459004d59",
   "metadata": {},
   "outputs": [],
   "source": []
  },
  {
   "cell_type": "code",
   "execution_count": null,
   "id": "81cd0171-2f40-4526-902b-0586f3cb4f5f",
   "metadata": {},
   "outputs": [],
   "source": [
    "#Problem 3-1\n",
    "\n",
    "#Formulate a linear program that minimizes the total distance traveled by students. (You\n",
    "#do not have to solve this model.)\n",
    "\n",
    "#Decision Variables\n",
    "(m, x[i=1:5]) #District\n",
    "(m, x[j=1:3]) #School\n",
    "\n",
    "\n",
    "#Objective\n",
    "Minimize\n",
    "distance traveled by students\n",
    "\n",
    "m, min, sum(2.7(CE*ES) + 1.4(D*CE) + 2.4(CE*NS) + 1.1(CE*SW)+ 0.5(CE*FW) + .5(WCE*ES) + .7(WCE*D) + 2.9(WCE*NS) + .8(WCE*SW) + 1.9(WCE*FW) + 1.6(CC*ES) + 2(CC*D) +\n",
    "    .1(CC*NS) + 1.3(CC*SW) + 2.2(CC*FW) #Each district and school, and time to get to each school from each disctrict\n",
    "    \n",
    "#Constraints\n",
    "2.7(CE*ES) + 1.4(D*CE) + 2.4(CE*NS) + 1.1(CE*SW)+ 0.5(CE*FW)<= 3900\n",
    ".5(WCE*ES) + .7(WCE*D) + 2.9(WCE*NS) + .8(WCE*SW) + 1.9(WCE*FW)<= 3100\n",
    "1.6(CC*ES) + 2(CC*D) + .1(CC*NS) + 1.3(CC*SW) + 2.2(CC*FW)<= 2100\n",
    "\n",
    "\n",
    "sum(x[(i, j)] for school in schools) <= 0.7 * sum(x[(i, j)] for school in schools\n",
    "x[(i, j)] for school in schools) >= 0.3 * sum(x[(i, j)] for school in schools\n",
    "\n"
   ]
  },
  {
   "cell_type": "code",
   "execution_count": null,
   "id": "12548611-2e19-4f14-9f8f-89fbf568c407",
   "metadata": {},
   "outputs": [],
   "source": []
  },
  {
   "cell_type": "code",
   "execution_count": null,
   "id": "9e6d6fd7-917e-446a-8a24-ee458ab7dd77",
   "metadata": {},
   "outputs": [],
   "source": [
    "#Problem 4-1\n",
    "\n",
    "Decision Variables\n",
    "xas #(for a in A and s in S) #districts and schools\n",
    "\n",
    "\n",
    "Objective\n",
    "minimize distance\n",
    "xas[for a in A][s in s]*das #das is distance, which we want to minimize for each district and school\n",
    "\n",
    "Constraints\n",
    "xas[for a in A] = ys\n",
    "xas[for s in S]=na\n",
    "ys<=bs\n",
    "gammaa*xas-h*ys<=0\n",
    "gammaa*xas-l*ys>=0\n",
    "ys>=K\n",
    "xas>=0\n"
   ]
  },
  {
   "cell_type": "code",
   "execution_count": 3,
   "id": "afb45939-5df5-4aa2-b513-28f742b8a500",
   "metadata": {},
   "outputs": [],
   "source": [
    "#Problem 4-2\n",
    "# sets of scools (S) and areas (A)\n",
    "S = 1:3 \n",
    "A = 1:5\n",
    "\n",
    "# number of students in each district\n",
    "n = Dict(zip(A,[1200 1000 1700 2000 2500]))\n",
    "\n",
    "# capacity of each school\n",
    "b = Dict(zip(S,[3900 3100 2100]))\n",
    "\n",
    "using NamedArrays\n",
    "# distances between district/school pairs\n",
    "d_matrix = [2.7 0.5 1.6;\n",
    "    1.4 0.7 2.0;\n",
    "    2.4 2.9 0.1;\n",
    "    1.1 0.8 1.3;\n",
    "    0.5 1.9 2.2]\n",
    "d_NA = NamedArray(d_matrix,(A,S),(\"district\",\"school\"))\n",
    "\n",
    "# fraction minority students in the district\n",
    "g = Dict(zip(A,[0.2 0.1 0.85 0.6 0.9]))\n",
    "\n",
    "# minimum minority fraction in each school\n",
    "L = 0.25\n",
    "# maximum minority fraction in each school\n",
    "U = 0.8\n",
    "\n",
    "# minimum enrollment in each school\n",
    "K = 200;"
   ]
  },
  {
   "cell_type": "code",
   "execution_count": 4,
   "id": "69e246c0-59a6-4f21-87b2-dcda53a1950b",
   "metadata": {},
   "outputs": [
    {
     "name": "stdout",
     "output_type": "stream",
     "text": [
      "Presolve 14 (-6) rows, 18 (0) columns and 69 (-6) elements\n",
      "0  Obj 0 Primal inf 12685.359 (11)\n",
      "13  Obj 4810\n",
      "Optimal - objective value 4810\n",
      "After Postsolve, objective 4810, infeasibilities - dual 0 (0), primal 0 (0)\n",
      "Optimal objective 4810 - 13 iterations time 0.002, Presolve 0.00\n"
     ]
    }
   ],
   "source": [
    "using JuMP, Cbc\n",
    "\n",
    "m = Model()\n",
    "\n",
    "\n",
    "@variable(m, x[A,S] >= 0) # total students sent from area to school\n",
    "@variable(m, y[S] >= 0) # total students sent to each school\n",
    "\n",
    "@objective(m, Min, sum(x[a,s]*d_NA[a,s] for a in A, s in S))\n",
    "\n",
    "@constraint(m, def_y[s in S], sum(x[a,s] for a in A) == y[s])\n",
    "@constraint(m, assign_all[a in A], sum(x[a,s] for s in S) == n[a])\n",
    "@constraint(m, school_cap[s in S], y[s] <= b[s])\n",
    "@constraint(m, upper_cap[s in S], sum(g[a]*x[a,s] for a in A) <= U*y[s])\n",
    "@constraint(m, lower_cap[s in S], sum(g[a]*x[a,s] for a in A) >= L*y[s])\n",
    "@constraint(m, min_enroll[s in S], y[s] >= K)\n",
    "set_optimizer(m, Cbc.Optimizer)\n",
    "\n",
    "optimize!(m)"
   ]
  },
  {
   "cell_type": "code",
   "execution_count": null,
   "id": "4464e9f3-3666-4c78-829c-89ba3bfaed1b",
   "metadata": {},
   "outputs": [],
   "source": []
  }
 ],
 "metadata": {
  "kernelspec": {
   "display_name": "Julia 1.10.0",
   "language": "julia",
   "name": "julia-1.10"
  },
  "language_info": {
   "file_extension": ".jl",
   "mimetype": "application/julia",
   "name": "julia",
   "version": "1.10.0"
  }
 },
 "nbformat": 4,
 "nbformat_minor": 5
}
