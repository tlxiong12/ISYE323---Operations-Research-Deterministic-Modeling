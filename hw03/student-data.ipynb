{
 "cells": [
  {
   "cell_type": "code",
   "execution_count": 1,
   "id": "6fd18efe",
   "metadata": {},
   "outputs": [],
   "source": [
    "# sets of scools (S) and areas (A)\n",
    "S = 1:3 \n",
    "A = 1:5\n",
    "\n",
    "# number of students in each district\n",
    "n = Dict(zip(A,[1200 1000 1700 2000 2500]))\n",
    "\n",
    "# capacity of each school\n",
    "b = Dict(zip(S,[3900 3100 2100]))\n",
    "\n",
    "using NamedArrays\n",
    "# distances between district/school pairs\n",
    "d_matrix = [2.7 0.5 1.6;\n",
    "    1.4 0.7 2.0;\n",
    "    2.4 2.9 0.1;\n",
    "    1.1 0.8 1.3;\n",
    "    0.5 1.9 2.2]\n",
    "d_NA = NamedArray(d_matrix,(A,S),(\"district\",\"school\"))\n",
    "\n",
    "# fraction minority students in the district\n",
    "g = Dict(zip(A,[0.2 0.1 0.85 0.6 0.9]))\n",
    "\n",
    "# minimum minority fraction in each school\n",
    "L = 0.25\n",
    "# maximum minority fraction in each school\n",
    "U = 0.8\n",
    "\n",
    "# minimum enrollment in each school\n",
    "K = 200;"
   ]
  },
  {
   "cell_type": "code",
   "execution_count": 2,
   "id": "d8ed5636",
   "metadata": {},
   "outputs": [
    {
     "name": "stdout",
     "output_type": "stream",
     "text": [
      "Presolve 14 (-6) rows, 18 (0) columns and 69 (-6) elements\n",
      "0  Obj 0 Primal inf 12685.359 (11)\n",
      "13  Obj 4810\n",
      "Optimal - objective value 4810\n",
      "After Postsolve, objective 4810, infeasibilities - dual 0 (0), primal 0 (0)\n",
      "Optimal objective 4810 - 13 iterations time 0.002, Presolve 0.00\n"
     ]
    }
   ],
   "source": [
    "using JuMP, Cbc\n",
    "\n",
    "m = Model()\n",
    "\n",
    "\n",
    "@variable(m, x[A,S] >= 0) # total students sent from area to school\n",
    "@variable(m, y[S] >= 0) # total students sent to each school\n",
    "\n",
    "@objective(m, Min, sum(x[a,s]*d_NA[a,s] for a in A, s in S))\n",
    "\n",
    "@constraint(m, def_y[s in S], sum(x[a,s] for a in A) == y[s])\n",
    "@constraint(m, assign_all[a in A], sum(x[a,s] for s in S) == n[a])\n",
    "@constraint(m, school_cap[s in S], y[s] <= b[s])\n",
    "@constraint(m, upper_cap[s in S], sum(g[a]*x[a,s] for a in A) <= U*y[s])\n",
    "@constraint(m, lower_cap[s in S], sum(g[a]*x[a,s] for a in A) >= L*y[s])\n",
    "@constraint(m, min_enroll[s in S], y[s] >= K)\n",
    "set_optimizer(m, Cbc.Optimizer)\n",
    "\n",
    "optimize!(m)"
   ]
  },
  {
   "cell_type": "code",
   "execution_count": null,
   "id": "d9202cd5-1096-4fcd-b0f9-a8af2422f265",
   "metadata": {},
   "outputs": [],
   "source": []
  }
 ],
 "metadata": {
  "kernelspec": {
   "display_name": "Julia 1.10.0",
   "language": "julia",
   "name": "julia-1.10"
  },
  "language_info": {
   "file_extension": ".jl",
   "mimetype": "application/julia",
   "name": "julia",
   "version": "1.10.0"
  }
 },
 "nbformat": 4,
 "nbformat_minor": 5
}
