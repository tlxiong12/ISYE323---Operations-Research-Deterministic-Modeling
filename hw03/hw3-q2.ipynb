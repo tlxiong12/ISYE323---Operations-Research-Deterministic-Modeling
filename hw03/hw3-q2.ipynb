{
 "cells": [
  {
   "cell_type": "code",
   "execution_count": 1,
   "id": "d8ed5636",
   "metadata": {},
   "outputs": [
    {
     "name": "stdout",
     "output_type": "stream",
     "text": [
      "Presolve 4 (-1) rows, 5 (0) columns and 20 (-5) elements\n",
      "0  Obj 45 Primal inf 3.4545425 (3)\n",
      "3  Obj 27.578512\n",
      "Optimal - objective value 27.578512\n",
      "After Postsolve, objective 27.578512, infeasibilities - dual 0 (0), primal 0 (0)\n",
      "Optimal objective 27.5785124 - 3 iterations time 0.002, Presolve 0.00\n"
     ]
    }
   ],
   "source": [
    "#Problem 2-2\n",
    "\n",
    "using JuMP, Cbc\n",
    "m=Model()\n",
    "\n",
    "#data\n",
    "NPV = [6,5,12,13,9]\n",
    "cash_expenditure=[6 2 8 10 2;\n",
    "                2 5 9 11 9;\n",
    "                4 3 10 9 6;\n",
    "                2 3 4 8 3]\n",
    "yearlybudget = 20 #(mil)\n",
    "\n",
    "#decision variables\n",
    "@variable(m, x[i=1:5] <= 1) #companies\n",
    "\n",
    "#objective\n",
    "@objective(m, Max, sum(x[i] * NPV[i] for i in 1:5))\n",
    "\n",
    "#constraints\n",
    "@constraint(m, [year in 1:4], sum(x[i] * cash_expenditure[year, i] for i in 1:5) <= yearlybudget)\n",
    "@constraint(m, sum(x[i] for i in 3:4) <= 0.4 * sum(x[i] for i in 1:5))\n",
    "\n",
    "set_optimizer(m, Cbc.Optimizer)\n",
    "optimize!(m)"
   ]
  },
  {
   "cell_type": "code",
   "execution_count": null,
   "id": "d9202cd5-1096-4fcd-b0f9-a8af2422f265",
   "metadata": {},
   "outputs": [],
   "source": []
  }
 ],
 "metadata": {
  "kernelspec": {
   "display_name": "Julia 1.10.0",
   "language": "julia",
   "name": "julia-1.10"
  },
  "language_info": {
   "file_extension": ".jl",
   "mimetype": "application/julia",
   "name": "julia",
   "version": "1.10.0"
  }
 },
 "nbformat": 4,
 "nbformat_minor": 5
}
