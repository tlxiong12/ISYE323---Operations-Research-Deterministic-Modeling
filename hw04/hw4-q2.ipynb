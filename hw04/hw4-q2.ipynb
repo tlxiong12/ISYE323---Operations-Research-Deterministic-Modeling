{
 "cells": [
  {
   "cell_type": "code",
   "execution_count": null,
   "id": "c231faa4-44f8-40c3-9e36-d4655241ded9",
   "metadata": {},
   "outputs": [],
   "source": [
    "#Problem 2-1\n",
    "Decision Variables\n",
    "x1 #block of cheese\n",
    "x2 #wheel of cheese\n",
    "x3 #waste\n",
    "x4 #Special Spread\n",
    "y1 #Method 1 \n",
    "y2 #Method 2\n",
    "y3 #Raw Materials and Pasturing\n",
    "\n",
    "\n",
    "Objective\n",
    "Max 3x1+x2+x3+10x4 - (3y1+4y2+25y3)\n",
    "\n",
    "\n",
    "Constraints\n",
    "x1 <= 500\n",
    "x2 <= 250\n",
    "x3 <= 3000\n",
    "x4 <= 400\n",
    "\n",
    "x1 >= 0\n",
    "x2 >= 0\n",
    "x3 >= 0\n",
    "x4 >= 0\n",
    "y1 >= 0\n",
    "y2 >= 0\n",
    "y3 >= 0\n",
    "y4 >= 0"
   ]
  },
  {
   "cell_type": "code",
   "execution_count": 2,
   "id": "3d1835df-a048-4941-aeb3-0fe7ea11e118",
   "metadata": {},
   "outputs": [
    {
     "name": "stdout",
     "output_type": "stream",
     "text": [
      "Presolve 5 (-11) rows, 7 (0) columns and 17 (-11) elements\n",
      "0  Obj -0 Dual inf 67.417891 (4)\n",
      "5  Obj 10421.656\n",
      "Optimal - objective value 10421.656\n",
      "After Postsolve, objective 10421.656, infeasibilities - dual 0 (0), primal 0 (0)\n",
      "Optimal objective 10421.65605 - 5 iterations time 0.022, Presolve 0.01\n"
     ]
    }
   ],
   "source": [
    "#Problem 2-2\n",
    "using JuMP, Cbc, NamedArrays\n",
    "\n",
    "m=Model()\n",
    "\n",
    "@variable(m, x1 >=0) #block of cheese\n",
    "@variable(m, x2 >=0) #wheel of cheese\n",
    "@variable(m, x3 >=0) #waste\n",
    "@variable(m, x4 >=0) #Special Spread\n",
    "@variable(m, y1 >=0) #Method 1\n",
    "@variable(m, y2 >=0) #Method 2\n",
    "@variable(m, y3 >=0) #Raw Materials and Pasturing\n",
    "\n",
    "@objective(m, Max, 3x1+10x2+x3+20x4 - (3y1+4y2+25y3))\n",
    "\n",
    "@constraint(m, x1 <= 500)\n",
    "@constraint(m, x2 <= 250)\n",
    "@constraint(m, x3 <= 3000)\n",
    "@constraint(m, x4 <= 400)\n",
    "\n",
    "@constraint(m, 0.5x4 + 1.2y1 + 2y2 + 0.5y3 <= 300)\n",
    "@constraint(m, y3 >= y1+y2)\n",
    "\n",
    "@constraint(m, x1 >= 0)\n",
    "@constraint(m, x2 >= 0)\n",
    "@constraint(m, x3 >= 0)\n",
    "@constraint(m, x4 >= 0)\n",
    "@constraint(m, y1 >= 0)\n",
    "@constraint(m, y2 >= 0)\n",
    "@constraint(m, y3 >= 0)\n",
    "\n",
    "@constraint(m,x1 <= 9y1 + 4y2)\n",
    "@constraint(m,x2 <= 2y1 + 3y2)\n",
    "@constraint(m,x3 + x4 <= 30y1+40y2)\n",
    "\n",
    "\n",
    "set_optimizer(m, Cbc.Optimizer)\n",
    "optimize!(m)"
   ]
  },
  {
   "cell_type": "code",
   "execution_count": null,
   "id": "1f306249-8bde-4ebf-ad18-2775d46d98eb",
   "metadata": {},
   "outputs": [],
   "source": []
  }
 ],
 "metadata": {
  "kernelspec": {
   "display_name": "Julia 1.10.0",
   "language": "julia",
   "name": "julia-1.10"
  },
  "language_info": {
   "file_extension": ".jl",
   "mimetype": "application/julia",
   "name": "julia",
   "version": "1.10.0"
  }
 },
 "nbformat": 4,
 "nbformat_minor": 5
}
