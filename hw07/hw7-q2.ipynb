{
 "cells": [
  {
   "cell_type": "code",
   "execution_count": 1,
   "id": "bc038a8b",
   "metadata": {},
   "outputs": [
    {
     "name": "stdout",
     "output_type": "stream",
     "text": [
      "Presolve 0 (-6) rows, 0 (-6) columns and 0 (-6) elements\n",
      "Optimal - objective value -0\n",
      "After Postsolve, objective 0, infeasibilities - dual 0 (0), primal 0 (0)\n",
      "Optimal objective 0 - 0 iterations time 0.002, Presolve 0.00\n"
     ]
    }
   ],
   "source": [
    "#Problem 2-2\n",
    "using JuMP, Cbc, NamedArrays\n",
    "items = [\n",
    "    :A,\n",
    "    :B,\n",
    "    :C,\n",
    "    :D,\n",
    "    :E,\n",
    "    :F\n",
    "]\n",
    "weight= Dict(zip(items, [5,7,10,12,2,5]))\n",
    "value= Dict(zip(items, [50,20,60,65,15,70]))\n",
    "        \n",
    "\n",
    "m=Model()\n",
    "#DVs\n",
    "@variable(m, x[items]>=0)\n",
    "\n",
    "#Objective\n",
    "@objective(m, Max, sum(value[i] for i in items))\n",
    "\n",
    "#Constraints\n",
    "@constraint(m, weight[weight in items], sum(x[weight]) <=18)\n",
    "\n",
    "\n",
    "set_optimizer(m, Cbc.Optimizer)\n",
    "optimize!(m)"
   ]
  },
  {
   "cell_type": "code",
   "execution_count": null,
   "id": "29f112fb",
   "metadata": {},
   "outputs": [],
   "source": []
  }
 ],
 "metadata": {
  "kernelspec": {
   "display_name": "Julia 1.10.0",
   "language": "julia",
   "name": "julia-1.10"
  },
  "language_info": {
   "file_extension": ".jl",
   "mimetype": "application/julia",
   "name": "julia",
   "version": "1.10.0"
  }
 },
 "nbformat": 4,
 "nbformat_minor": 5
}
