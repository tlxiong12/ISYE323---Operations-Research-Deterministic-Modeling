{
 "cells": [
  {
   "cell_type": "code",
   "execution_count": 1,
   "id": "901b52be",
   "metadata": {},
   "outputs": [
    {
     "name": "stdout",
     "output_type": "stream",
     "text": [
      "Welcome to the CBC MILP Solver \n",
      "Version: 2.10.8 \n",
      "Build Date: Jan  1 1970 \n",
      "\n",
      "command line - Cbc_C_Interface -solve -quit (default strategy 1)\n",
      "Continuous objective value is 378 - 0.00 seconds\n",
      "Cgl0004I processed model has 0 rows, 0 columns (0 integer (0 of which binary)) and 0 elements\n",
      "Cbc3007W No integer variables - nothing to do\n",
      "Cuts at root node changed objective from 378 to -1.79769e+308\n",
      "Probing was tried 0 times and created 0 cuts of which 0 were active after adding rounds of cuts (0.000 seconds)\n",
      "Gomory was tried 0 times and created 0 cuts of which 0 were active after adding rounds of cuts (0.000 seconds)\n",
      "Knapsack was tried 0 times and created 0 cuts of which 0 were active after adding rounds of cuts (0.000 seconds)\n",
      "Clique was tried 0 times and created 0 cuts of which 0 were active after adding rounds of cuts (0.000 seconds)\n",
      "MixedIntegerRounding2 was tried 0 times and created 0 cuts of which 0 were active after adding rounds of cuts (0.000 seconds)\n",
      "FlowCover was tried 0 times and created 0 cuts of which 0 were active after adding rounds of cuts (0.000 seconds)\n",
      "TwoMirCuts was tried 0 times and created 0 cuts of which 0 were active after adding rounds of cuts (0.000 seconds)\n",
      "ZeroHalf was tried 0 times and created 0 cuts of which 0 were active after adding rounds of cuts (0.000 seconds)\n",
      "\n",
      "Result - Optimal solution found\n",
      "\n",
      "Objective value:                378.00000000\n",
      "Enumerated nodes:               0\n",
      "Total iterations:               0\n",
      "Time (CPU seconds):             0.01\n",
      "Time (Wallclock seconds):       0.01\n",
      "\n",
      "Total time (CPU seconds):       0.01   (Wallclock seconds):       0.01\n",
      "\n"
     ]
    }
   ],
   "source": [
    "#Problem 4-2\n",
    "using JuMP, Cbc, NamedArrays\n",
    "\n",
    "activities = [:1, :2, :3, :4, :5, :6]\n",
    "#label = Dict(zip(activities,[1,2,3,4,5,6]))\n",
    "duration = Dict(zip(activities, [8,11,6,5,7,5]))\n",
    "precedences = [(1,3),(2,4),(3,4),(3,5),(4,5),(4,6)]\n",
    "#reduce = [[1,2,3,4],[1,2,3,4],[1,2,3,4],[1,2,3,4],[1,2,3,4],[1,2,3,4],[1,2,3,4]]\n",
    "M = 4\n",
    "\n",
    "m = Model()\n",
    "\n",
    "@variable(m, x[activities] >=0)\n",
    "@variable(m, 0 <= reduce[activities] <= 4)\n",
    "@variable(m, finishtime)\n",
    "@variable(m, y[activities] >=0, Bin)\n",
    "\n",
    "@objective(m, Min, (10+4)*sum(x[i] for i in activities))\n",
    "\n",
    "@constraint(m, minimax[i in activities], finishtime >= x[i] + duration[i] - reduce[i])\n",
    "@constraint(m, precedence_relationships[(i,j) in precedences], x[j] >= x[i] + duration[i]-reduce[i])\n",
    "@constraint(m, finishtime <= 18)\n",
    "@constraint(m, decide[i in activities], reduce[i] <= M*y[i])\n",
    "\n",
    "\n",
    "\n",
    "#@constraint(m, reduction[i in activities], duration[i] - reduce[i] >= 0)\n",
    "#@constraint(m, totaltime[i in activities], sum(duration[i] - reduce[i]) <= 18)\n",
    "#@constraint(m, nonzero[i in activities], reduce[i] >=0)\n",
    "\n",
    "set_optimizer(m, Cbc.Optimizer)\n",
    "optimize!(m)"
   ]
  },
  {
   "cell_type": "code",
   "execution_count": null,
   "id": "e3220ee6-8893-4cb9-a266-e7d43226da45",
   "metadata": {},
   "outputs": [],
   "source": []
  }
 ],
 "metadata": {
  "kernelspec": {
   "display_name": "Julia 1.10.0",
   "language": "julia",
   "name": "julia-1.10"
  },
  "language_info": {
   "file_extension": ".jl",
   "mimetype": "application/julia",
   "name": "julia",
   "version": "1.10.0"
  }
 },
 "nbformat": 4,
 "nbformat_minor": 5
}
