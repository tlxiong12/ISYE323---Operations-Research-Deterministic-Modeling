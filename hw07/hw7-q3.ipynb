{
 "cells": [
  {
   "cell_type": "code",
   "execution_count": 1,
   "id": "57c9f8a8",
   "metadata": {},
   "outputs": [
    {
     "name": "stdout",
     "output_type": "stream",
     "text": [
      "Presolve 2 (-9) rows, 3 (-3) columns and 6 (-15) elements\n",
      "0  Obj -0 Dual inf 2700 (3)\n",
      "3  Obj 550000\n",
      "Optimal - objective value 550000\n",
      "After Postsolve, objective 550000, infeasibilities - dual 0 (0), primal 0 (0)\n",
      "Optimal objective 550000 - 3 iterations time 0.002, Presolve 0.00\n"
     ]
    }
   ],
   "source": [
    "#Problem 3-2\n",
    "using JuMP, Cbc, NamedArrays\n",
    "\n",
    "computers = [:Pear, :Apricot, :Mango]\n",
    "labor =  Dict(zip(computers,[1,2,1.8]))\n",
    "chips =  Dict(zip(computers,[2,5,6]))\n",
    "sell =  Dict(zip(computers,[400,900,1000]))\n",
    "production = Dict(zip(computers,[500,400,300]))\n",
    "M = Dict(zip(computers,[2500, 1500, 1200]))\n",
    "\n",
    "m = Model()\n",
    "\n",
    "@variable(m, x[computers] >= 0)\n",
    "@variable(m, y[computers] >=0)\n",
    "\n",
    "@objective(m, Max, sum(sell[i]*x[i] for i in computers))\n",
    "\n",
    "@constraint(m, sum(chips[i] * x[i] for i in computers ) <= 3000) #chip constraint\n",
    "@constraint(m, sum(labor[i] * x[i] for i in computers) <= 1200) #labor constraint\n",
    "@constraint(m, prod[i in computers], x[i] >= production[i]*y[i])\n",
    "\n",
    "#@constraint(m, rhs[i in computers], x[i] >= 1000*y[i])\n",
    "#@constraint(m, bin[i in computers], y[i] == 0)\n",
    "\n",
    "@constraint(m, bound[i in computers], x[i] <= M[i]*y[i])\n",
    "@constraint(m, nonzero[i in computers], x[i] >= 0)\n",
    "\n",
    "\n",
    "set_optimizer(m, Cbc.Optimizer)\n",
    "optimize!(m)"
   ]
  },
  {
   "cell_type": "code",
   "execution_count": null,
   "id": "d8092bb1-72da-4cbe-b64c-9974ba73948f",
   "metadata": {},
   "outputs": [],
   "source": []
  }
 ],
 "metadata": {
  "kernelspec": {
   "display_name": "Julia 1.10.0",
   "language": "julia",
   "name": "julia-1.10"
  },
  "language_info": {
   "file_extension": ".jl",
   "mimetype": "application/julia",
   "name": "julia",
   "version": "1.10.0"
  }
 },
 "nbformat": 4,
 "nbformat_minor": 5
}
