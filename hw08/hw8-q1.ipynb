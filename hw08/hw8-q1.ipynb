{
 "cells": [
  {
   "cell_type": "code",
   "execution_count": 1,
   "id": "13b098dc",
   "metadata": {},
   "outputs": [
    {
     "name": "stdout",
     "output_type": "stream",
     "text": [
      "Welcome to the CBC MILP Solver \n",
      "Version: 2.10.8 \n",
      "Build Date: Jan  1 1970 \n",
      "\n",
      "command line - Cbc_C_Interface -solve -quit (default strategy 1)\n",
      "Continuous objective value is 58 - 0.00 seconds\n",
      "Cgl0004I processed model has 4 rows, 8 columns (8 integer (8 of which binary)) and 11 elements\n",
      "Cutoff increment increased from 1e-05 to 0.9999\n",
      "Cbc0038I Initial state - 0 integers unsatisfied sum - 0\n",
      "Cbc0038I Solution found of 58\n",
      "Cbc0038I Before mini branch and bound, 8 integers at bound fixed and 0 continuous\n",
      "Cbc0038I Mini branch and bound did not improve solution (0.01 seconds)\n",
      "Cbc0038I After 0.01 seconds - Feasibility pump exiting with objective of 58 - took 0.00 seconds\n",
      "Cbc0012I Integer solution of 58 found by feasibility pump after 0 iterations and 0 nodes (0.01 seconds)\n",
      "Cbc0001I Search completed - best objective 58, took 0 iterations and 0 nodes (0.01 seconds)\n",
      "Cbc0035I Maximum depth 0, 0 variables fixed on reduced cost\n",
      "Cuts at root node changed objective from 58 to 58\n",
      "Probing was tried 0 times and created 0 cuts of which 0 were active after adding rounds of cuts (0.000 seconds)\n",
      "Gomory was tried 0 times and created 0 cuts of which 0 were active after adding rounds of cuts (0.000 seconds)\n",
      "Knapsack was tried 0 times and created 0 cuts of which 0 were active after adding rounds of cuts (0.000 seconds)\n",
      "Clique was tried 0 times and created 0 cuts of which 0 were active after adding rounds of cuts (0.000 seconds)\n",
      "MixedIntegerRounding2 was tried 0 times and created 0 cuts of which 0 were active after adding rounds of cuts (0.000 seconds)\n",
      "FlowCover was tried 0 times and created 0 cuts of which 0 were active after adding rounds of cuts (0.000 seconds)\n",
      "TwoMirCuts was tried 0 times and created 0 cuts of which 0 were active after adding rounds of cuts (0.000 seconds)\n",
      "ZeroHalf was tried 0 times and created 0 cuts of which 0 were active after adding rounds of cuts (0.000 seconds)\n",
      "\n",
      "Result - Optimal solution found\n",
      "\n",
      "Objective value:                58.00000000\n",
      "Enumerated nodes:               0\n",
      "Total iterations:               0\n",
      "Time (CPU seconds):             0.01\n",
      "Time (Wallclock seconds):       0.01\n",
      "\n",
      "Total time (CPU seconds):       0.01   (Wallclock seconds):       0.01\n",
      "\n"
     ]
    }
   ],
   "source": [
    "#Problem 1-2\n",
    "using JuMP, Cbc\n",
    "m=Model()\n",
    "\n",
    "#bars = [:1,:2,:3,:4]\n",
    "#required = Dict(zip(bars, [7,2,6,3]))\n",
    "    \n",
    "#distances = [0 5 12 7 15;\n",
    "#             5 0 4 10 7;\n",
    "#             12 4 0 14 20;\n",
    "#             7 10 14 0 8]\n",
    "\n",
    "#travel = Dict()\n",
    "#travel[:1]=[:2, :4]\n",
    "#travel[:3]=[:2, :4]\n",
    "\n",
    "options = [:1,:2,:3,:4,:5,:6,:7,:8]\n",
    "distances = Dict(zip(options, [10,24,14,30,21,37,27,33])) #distance for each trip\n",
    "\n",
    "\n",
    "#DVs\n",
    "@variable(m, x[options], Bin)\n",
    "\n",
    "@objective(m, Min, sum(distances[i] * x[i] for i in options))\n",
    "\n",
    "@constraint(m, x[1]+x[5] >= 1) #bar1\n",
    "@constraint(m, x[2]+x[5]+x[8] >=1) #bar2\n",
    "@constraint(m, x[3]+ x[6]+x[8]>=1) #bar3\n",
    "@constraint(m, x[4]+x[6]+x[7]>=1) #bar4\n",
    "\n",
    "#@constraint(m, sum(required[i]*x[i] for i in bars)<=10) #Beer Carry Constraint\n",
    "#@constraint(m, visit_bar[i in bars], sum(x[i] for i in bars)>=1) #visit each bar\n",
    "#@constraint(m, cover[i in bars, j in bars_r], sum(x[i] for i in travel[j]) >= 1)\n",
    "\n",
    "\n",
    "set_optimizer(m, Cbc.Optimizer)\n",
    "optimize!(m)"
   ]
  },
  {
   "cell_type": "code",
   "execution_count": null,
   "id": "b03e33c7",
   "metadata": {},
   "outputs": [],
   "source": []
  }
 ],
 "metadata": {
  "kernelspec": {
   "display_name": "Julia 1.10.0",
   "language": "julia",
   "name": "julia-1.10"
  },
  "language_info": {
   "file_extension": ".jl",
   "mimetype": "application/julia",
   "name": "julia",
   "version": "1.10.0"
  }
 },
 "nbformat": 4,
 "nbformat_minor": 5
}
