{
 "cells": [
  {
   "cell_type": "code",
   "execution_count": 1,
   "metadata": {},
   "outputs": [],
   "source": [
    "#Question 2-2\n",
    "using JuMP, Cbc, NamedArrays\n",
    "#sets\n",
    "properties = [:height,:flowers,:goodsmell,:beauty,:goodpollinator]\n",
    "plants = [:p1,:p2,:p3,:p4,:p5,:p6]\n",
    "\n",
    "#parameters\n",
    "cost_per_plant = Dict(zip(plants,[5.5,7.3,7.8,6.3,5.0,7.9]))\n",
    "property_lower_bound = Dict(zip(properties,[315,500,450,400,300]))\n",
    "\n",
    "using NamedArrays\n",
    "# array containing amount of property (row) in each plant (column)\n",
    "prop_per_plant = NamedArray([3.1 4 1.5 1.8 3.3 5\n",
    "4.3 4.3 1.3 4 1.1 1.7\n",
    "3.6 1.8 4.6 2.2 1.5 0.7\n",
    "4 1.6 4.6 4 4 2.8\n",
    "3.6 4.9 2.6 1.9 1.3 2.4],\n",
    "(properties,plants),(\"property\",\"plant\"))\n",
    "\n",
    "# max number of each type of plant is 100\n",
    "max_buy = 100;"
   ]
  },
  {
   "cell_type": "code",
   "execution_count": 2,
   "metadata": {},
   "outputs": [
    {
     "name": "stdout",
     "output_type": "stream",
     "text": [
      "Presolve 5 (-6) rows, 6 (0) columns and 30 (-6) elements\n",
      "0  Obj 0 Primal inf 425.28616 (5)\n",
      "2  Obj 736.50579\n",
      "Optimal - objective value 736.50579\n",
      "After Postsolve, objective 736.50579, infeasibilities - dual 0 (0), primal 0 (0)\n",
      "Optimal objective 736.5057915 - 2 iterations time 0.002, Presolve 0.00\n"
     ]
    },
    {
     "data": {
      "text/plain": [
       "* Solver : COIN Branch-and-Cut (Cbc)\n",
       "\n",
       "* Status\n",
       "  Result count       : 1\n",
       "  Termination status : OPTIMAL\n",
       "  Message from the solver:\n",
       "  \"Cbc_status          = finished - check isProvenOptimal or isProvenInfeasible to see if solution found (or check value of best solution)\n",
       "Cbc_secondaryStatus = unset (status_ will also be -1)\n",
       "\"\n",
       "\n",
       "* Candidate solution (result #1)\n",
       "  Primal status      : FEASIBLE_POINT\n",
       "  Dual status        : NO_SOLUTION\n",
       "  Objective value    : 7.36506e+02\n",
       "  Objective bound    : 7.36506e+02\n",
       "  Relative gap       : 0.00000e+00\n",
       "  Primal solution :\n",
       "    x[p1] : 1.00000e+02\n",
       "    x[p2] : 0.00000e+00\n",
       "    x[p3] : 1.32561e+01\n",
       "    x[p4] : 1.31918e+01\n",
       "    x[p5] : 0.00000e+00\n",
       "    x[p6] : 0.00000e+00\n",
       "\n",
       "* Work counters\n",
       "  Solve time (sec)   : 0.00000e+00\n",
       "  Node count         : 0\n"
      ]
     },
     "execution_count": 2,
     "metadata": {},
     "output_type": "execute_result"
    }
   ],
   "source": [
    "using JuMP, Cbc\n",
    "\n",
    "m=Model()\n",
    "\n",
    "#Variables\n",
    "@variable(m, x[plants] >=0)\n",
    "\n",
    "#Objective\n",
    "@objective(m, Min, sum(cost_per_plant[p]*x[p] for p in plants))\n",
    "\n",
    "#Constraints\n",
    "@constraint(m, Max_buy[p in plants], (x[p]) <= max_buy)\n",
    "@constraint(m, properties[prop in properties], sum((prop_per_plant[prop, p] * x[p]) for p in plants) >= property_lower_bound[prop])\n",
    "\n",
    "set_optimizer(m, Cbc.Optimizer)\n",
    "optimize!(m)\n",
    "solution_summary(m, verbose=true)"
   ]
  }
 ],
 "metadata": {
  "kernelspec": {
   "display_name": "Julia 1.10.0",
   "language": "julia",
   "name": "julia-1.10"
  },
  "language_info": {
   "file_extension": ".jl",
   "mimetype": "application/julia",
   "name": "julia",
   "version": "1.10.0"
  }
 },
 "nbformat": 4,
 "nbformat_minor": 4
}
