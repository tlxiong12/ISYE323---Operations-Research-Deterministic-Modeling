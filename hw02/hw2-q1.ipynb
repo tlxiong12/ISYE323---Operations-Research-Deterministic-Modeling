{
 "cells": [
  {
   "cell_type": "code",
   "execution_count": 2,
   "metadata": {},
   "outputs": [
    {
     "data": {
      "text/plain": [
       "A JuMP Model\n",
       "Feasibility problem with:\n",
       "Variables: 0\n",
       "Model mode: AUTOMATIC\n",
       "CachingOptimizer state: NO_OPTIMIZER\n",
       "Solver name: No optimizer attached."
      ]
     },
     "execution_count": 2,
     "metadata": {},
     "output_type": "execute_result"
    }
   ],
   "source": [
    "#Question 1\n",
    "Minimize\n",
    "5.5x1+8.5x2+7.0x3+6.2x4+5.9x5\n",
    "\n",
    "Subject to\n",
    "10x1+36x2+15x3+18x4+12x5 >= 1000 #Height\n",
    "4x1+3.5x2+6x3+3x4+5x5 <= 550 #Feet\n",
    "6x2+4x3+8x4+6x5 >= 500 #Amount of flowers\n",
    "x1+x2+x3+x4+x5=100 #units\n",
    "\n"
   ]
  },
  {
   "cell_type": "code",
   "execution_count": 4,
   "metadata": {},
   "outputs": [
    {
     "name": "stdout",
     "output_type": "stream",
     "text": [
      "Presolve 4 (0) rows, 5 (0) columns and 19 (0) elements\n",
      "0  Obj 0 Primal inf 190.27778 (3)\n",
      "2  Obj 583.33333\n",
      "Optimal - objective value 583.33333\n",
      "Optimal objective 583.3333333 - 2 iterations time 0.002\n"
     ]
    }
   ],
   "source": [
    "using JuMP, Cbc, NamedArrays\n",
    "m=Model()\n",
    "\n",
    "@variable(m, x1 >= 0)\n",
    "@variable(m, x2 >= 0)\n",
    "@variable(m, x3 >= 0)\n",
    "@variable(m, x4 >= 0)\n",
    "@variable(m, x5 >= 0)\n",
    "\n",
    "@objective(m, Min, 5.5x1+8.5x2+7.0x3+6.2x4+5.9x5)\n",
    "\n",
    "@constraint(m, 10x1+36x2+15x3+18x4+12x5 >= 1000) #Height\n",
    "@constraint(m, 4x1+3.5x2+6x3+3x4+5x5 <= 550)#Feet\n",
    "@constraint(m, 6x2+4x3+8x4+6x5 >= 500) #Amount of flowers\n",
    "@constraint(m, x1+x2+x3+x4+x5 == 100) #units\n",
    "\n",
    "set_optimizer(m, Cbc.Optimizer)\n",
    "optimize!(m)"
   ]
  },
  {
   "cell_type": "code",
   "execution_count": null,
   "metadata": {},
   "outputs": [],
   "source": []
  }
 ],
 "metadata": {
  "kernelspec": {
   "display_name": "Julia 1.10.0",
   "language": "julia",
   "name": "julia-1.10"
  },
  "language_info": {
   "file_extension": ".jl",
   "mimetype": "application/julia",
   "name": "julia",
   "version": "1.10.0"
  }
 },
 "nbformat": 4,
 "nbformat_minor": 4
}
