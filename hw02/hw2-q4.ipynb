{
 "cells": [
  {
   "cell_type": "code",
   "execution_count": null,
   "metadata": {},
   "outputs": [],
   "source": [
    "#Problem 4-1\n",
    "\n",
    "Decision Varaiables\n",
    "x1>=0 #each x is a rotation type\n",
    "x2>=0\n",
    "x3>=0\n",
    "x4>=0\n",
    "\n",
    "\n",
    "Objective\n",
    "Minimize cost\n",
    "250x1+200x3+300(x2+x4)\n",
    "\n",
    "\n",
    "Constraints\n",
    "x1+x2+x4 >=30\n",
    "x2 >= 8\n",
    "x2+x3>=12\n",
    "x2+x3>=20\n",
    "x2+x3+x4>=25\n",
    "x1+x3+x4>=30\n",
    "x1+x4>=35"
   ]
  },
  {
   "cell_type": "code",
   "execution_count": 4,
   "metadata": {},
   "outputs": [
    {
     "name": "stdout",
     "output_type": "stream",
     "text": [
      "Presolve 5 (-2) rows, 4 (0) columns and 13 (-3) elements\n",
      "0  Obj 2400 Primal inf 131 (5)\n",
      "3  Obj 17550\n",
      "Optimal - objective value 17550\n",
      "After Postsolve, objective 17550, infeasibilities - dual 0 (0), primal 0 (0)\n",
      "Optimal objective 17550 - 3 iterations time 0.012, Presolve 0.00\n"
     ]
    }
   ],
   "source": [
    "using JuMP, Cbc, NamedArrays\n",
    "\n",
    "m=Model()\n",
    "\n",
    "@variable(m,x1>=0)\n",
    "@variable(m,x2>=0)\n",
    "@variable(m,x3>=0)\n",
    "@variable(m,x4>=0)\n",
    "\n",
    "@objective(m, Min,250x1+200x3+300(x2+x4))\n",
    "\n",
    "@constraint(m,x1+x2+x4 >=30)\n",
    "@constraint(m, x2 >= 8)\n",
    "@constraint(m, x2+x3>=15)\n",
    "@constraint(m,x2+x3>=20)\n",
    "@constraint(m, x2+x3+x4>=25)\n",
    "@constraint(m, x1+x3+x4>=30)\n",
    "@constraint(m,x1+x4>=50)\n",
    "\n",
    "set_optimizer(m, Cbc.Optimizer)\n",
    "optimize!(m)"
   ]
  },
  {
   "cell_type": "code",
   "execution_count": null,
   "metadata": {},
   "outputs": [],
   "source": []
  }
 ],
 "metadata": {
  "kernelspec": {
   "display_name": "Julia 1.10.0",
   "language": "julia",
   "name": "julia-1.10"
  },
  "language_info": {
   "file_extension": ".jl",
   "mimetype": "application/julia",
   "name": "julia",
   "version": "1.10.0"
  }
 },
 "nbformat": 4,
 "nbformat_minor": 4
}
